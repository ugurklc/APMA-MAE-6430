{
  "nbformat": 4,
  "nbformat_minor": 0,
  "metadata": {
    "colab": {
      "name": "Stat_grades.ipynb",
      "provenance": [],
      "collapsed_sections": [],
      "authorship_tag": "ABX9TyNby3fsfDM/jVLJrPVOg5up",
      "include_colab_link": true
    },
    "kernelspec": {
      "name": "ir",
      "display_name": "R"
    },
    "language_info": {
      "name": "R"
    }
  },
  "cells": [
    {
      "cell_type": "markdown",
      "metadata": {
        "id": "view-in-github",
        "colab_type": "text"
      },
      "source": [
        "<a href=\"https://colab.research.google.com/github/ugurklc/APMA-MAE-6430/blob/main/Stat_grades.ipynb\" target=\"_parent\"><img src=\"https://colab.research.google.com/assets/colab-badge.svg\" alt=\"Open In Colab\"/></a>"
      ]
    },
    {
      "cell_type": "code",
      "execution_count": 1,
      "metadata": {
        "colab": {
          "base_uri": "https://localhost:8080/",
          "height": 277
        },
        "id": "jijG1XwLHrJY",
        "outputId": "476a44f9-3aac-49ff-f805-527c01a731dd"
      },
      "outputs": [
        {
          "output_type": "display_data",
          "data": {
            "text/plain": [
              "               _                           \n",
              "platform       x86_64-pc-linux-gnu         \n",
              "arch           x86_64                      \n",
              "os             linux-gnu                   \n",
              "system         x86_64, linux-gnu           \n",
              "status                                     \n",
              "major          4                           \n",
              "minor          2.0                         \n",
              "year           2022                        \n",
              "month          04                          \n",
              "day            22                          \n",
              "svn rev        82229                       \n",
              "language       R                           \n",
              "version.string R version 4.2.0 (2022-04-22)\n",
              "nickname       Vigorous Calisthenics       "
            ]
          },
          "metadata": {}
        }
      ],
      "source": [
        "version"
      ]
    },
    {
      "cell_type": "code",
      "source": [
        ""
      ],
      "metadata": {
        "id": "PR5ZsuMCHv7t"
      },
      "execution_count": null,
      "outputs": []
    },
    {
      "cell_type": "markdown",
      "source": [
        "# **Author: Ted Chang / M. Veeraraghavan / G.Guadagni 2017 & 2018 & 2020**\n",
        "\n",
        "# Statistical techniques: boxplots, barplots, histograms\n",
        "\n",
        "# *`Purpose: visualize stat grades data set`*"
      ],
      "metadata": {
        "id": "Ya_kDHZzIDY7"
      }
    },
    {
      "cell_type": "code",
      "source": [
        "# statdata <- read.table(\"StatGrades.txt\")\n",
        "statdata <- read.table(\"https://raw.githubusercontent.com/ugurklc/APMA-MAE-6430/main/StatGrades.txt\", header = TRUE)"
      ],
      "metadata": {
        "id": "tq6h-TBVIG-f"
      },
      "execution_count": 8,
      "outputs": []
    },
    {
      "cell_type": "code",
      "source": [
        "head(statdata)"
      ],
      "metadata": {
        "colab": {
          "base_uri": "https://localhost:8080/",
          "height": 286
        },
        "id": "CCBJBM8bIqMT",
        "outputId": "78639b70-549f-4fff-fad3-850ef732c6e3"
      },
      "execution_count": 11,
      "outputs": [
        {
          "output_type": "display_data",
          "data": {
            "text/html": [
              "<table class=\"dataframe\">\n",
              "<caption>A data.frame: 6 × 5</caption>\n",
              "<thead>\n",
              "\t<tr><th></th><th scope=col>grade</th><th scope=col>HW</th><th scope=col>exam1</th><th scope=col>exam2</th><th scope=col>final</th></tr>\n",
              "\t<tr><th></th><th scope=col>&lt;chr&gt;</th><th scope=col>&lt;dbl&gt;</th><th scope=col>&lt;int&gt;</th><th scope=col>&lt;int&gt;</th><th scope=col>&lt;int&gt;</th></tr>\n",
              "</thead>\n",
              "<tbody>\n",
              "\t<tr><th scope=row>1</th><td>A+</td><td>103.93</td><td>100</td><td>96</td><td>95</td></tr>\n",
              "\t<tr><th scope=row>2</th><td>A+</td><td>120.86</td><td> 87</td><td>95</td><td>95</td></tr>\n",
              "\t<tr><th scope=row>3</th><td>A </td><td>114.78</td><td> 92</td><td>82</td><td>94</td></tr>\n",
              "\t<tr><th scope=row>4</th><td>A </td><td> 99.20</td><td> 79</td><td>87</td><td>93</td></tr>\n",
              "\t<tr><th scope=row>5</th><td>A </td><td> 95.99</td><td> 90</td><td>70</td><td>90</td></tr>\n",
              "\t<tr><th scope=row>6</th><td>A </td><td> 98.08</td><td> 95</td><td>85</td><td>90</td></tr>\n",
              "</tbody>\n",
              "</table>\n"
            ],
            "text/markdown": "\nA data.frame: 6 × 5\n\n| <!--/--> | grade &lt;chr&gt; | HW &lt;dbl&gt; | exam1 &lt;int&gt; | exam2 &lt;int&gt; | final &lt;int&gt; |\n|---|---|---|---|---|---|\n| 1 | A+ | 103.93 | 100 | 96 | 95 |\n| 2 | A+ | 120.86 |  87 | 95 | 95 |\n| 3 | A  | 114.78 |  92 | 82 | 94 |\n| 4 | A  |  99.20 |  79 | 87 | 93 |\n| 5 | A  |  95.99 |  90 | 70 | 90 |\n| 6 | A  |  98.08 |  95 | 85 | 90 |\n\n",
            "text/latex": "A data.frame: 6 × 5\n\\begin{tabular}{r|lllll}\n  & grade & HW & exam1 & exam2 & final\\\\\n  & <chr> & <dbl> & <int> & <int> & <int>\\\\\n\\hline\n\t1 & A+ & 103.93 & 100 & 96 & 95\\\\\n\t2 & A+ & 120.86 &  87 & 95 & 95\\\\\n\t3 & A  & 114.78 &  92 & 82 & 94\\\\\n\t4 & A  &  99.20 &  79 & 87 & 93\\\\\n\t5 & A  &  95.99 &  90 & 70 & 90\\\\\n\t6 & A  &  98.08 &  95 & 85 & 90\\\\\n\\end{tabular}\n",
            "text/plain": [
              "  grade HW     exam1 exam2 final\n",
              "1 A+    103.93 100   96    95   \n",
              "2 A+    120.86  87   95    95   \n",
              "3 A     114.78  92   82    94   \n",
              "4 A      99.20  79   87    93   \n",
              "5 A      95.99  90   70    90   \n",
              "6 A      98.08  95   85    90   "
            ]
          },
          "metadata": {}
        }
      ]
    },
    {
      "cell_type": "markdown",
      "source": [
        "StatGrades.txt is a text file with 5 columns. Its first line is a header line with the entries \"Grade\", \"HW\", \"exam1\", \"exam2\", \"final\".\n",
        "\n",
        "It then has 246 lines of data; each line represents a student's work. The lines have been sorted into descending final exam order."
      ],
      "metadata": {
        "id": "zyyksEMjJOS8"
      }
    },
    {
      "cell_type": "code",
      "source": [
        "str(statdata)"
      ],
      "metadata": {
        "colab": {
          "base_uri": "https://localhost:8080/"
        },
        "id": "pKNUChllIrnA",
        "outputId": "46d40ea2-86ea-47d3-a345-4650d5770961"
      },
      "execution_count": 12,
      "outputs": [
        {
          "output_type": "stream",
          "name": "stdout",
          "text": [
            "'data.frame':\t246 obs. of  5 variables:\n",
            " $ grade: chr  \"A+\" \"A+\" \"A\" \"A\" ...\n",
            " $ HW   : num  103.9 120.9 114.8 99.2 96 ...\n",
            " $ exam1: int  100 87 92 79 90 95 92 80 98 85 ...\n",
            " $ exam2: int  96 95 82 87 70 85 96 88 91 88 ...\n",
            " $ final: int  95 95 94 93 90 90 90 90 90 89 ...\n"
          ]
        }
      ]
    },
    {
      "cell_type": "code",
      "source": [
        "statdata[,5]"
      ],
      "metadata": {
        "colab": {
          "base_uri": "https://localhost:8080/",
          "height": 121
        },
        "id": "ZPmCFVzgJnU3",
        "outputId": "f3d04056-4730-4f64-d74e-6870368e4e0b"
      },
      "execution_count": 13,
      "outputs": [
        {
          "output_type": "display_data",
          "data": {
            "text/html": [
              "<style>\n",
              ".list-inline {list-style: none; margin:0; padding: 0}\n",
              ".list-inline>li {display: inline-block}\n",
              ".list-inline>li:not(:last-child)::after {content: \"\\00b7\"; padding: 0 .5ex}\n",
              "</style>\n",
              "<ol class=list-inline><li>95</li><li>95</li><li>94</li><li>93</li><li>90</li><li>90</li><li>90</li><li>90</li><li>90</li><li>89</li><li>89</li><li>89</li><li>89</li><li>89</li><li>88</li><li>88</li><li>87</li><li>87</li><li>87</li><li>87</li><li>87</li><li>86</li><li>86</li><li>86</li><li>86</li><li>86</li><li>86</li><li>86</li><li>86</li><li>86</li><li>85</li><li>84</li><li>84</li><li>84</li><li>83</li><li>83</li><li>83</li><li>83</li><li>83</li><li>83</li><li>82</li><li>82</li><li>82</li><li>82</li><li>82</li><li>82</li><li>82</li><li>82</li><li>82</li><li>82</li><li>81</li><li>81</li><li>81</li><li>81</li><li>80</li><li>80</li><li>80</li><li>80</li><li>80</li><li>80</li><li>80</li><li>80</li><li>80</li><li>80</li><li>79</li><li>79</li><li>79</li><li>79</li><li>78</li><li>78</li><li>78</li><li>78</li><li>78</li><li>77</li><li>77</li><li>77</li><li>77</li><li>77</li><li>77</li><li>77</li><li>76</li><li>76</li><li>76</li><li>76</li><li>76</li><li>76</li><li>76</li><li>75</li><li>75</li><li>75</li><li>75</li><li>75</li><li>75</li><li>75</li><li>75</li><li>75</li><li>75</li><li>75</li><li>74</li><li>74</li><li>74</li><li>74</li><li>74</li><li>74</li><li>73</li><li>73</li><li>73</li><li>73</li><li>73</li><li>73</li><li>73</li><li>73</li><li>73</li><li>73</li><li>73</li><li>73</li><li>73</li><li>72</li><li>72</li><li>72</li><li>72</li><li>72</li><li>72</li><li>72</li><li>72</li><li>71</li><li>71</li><li>71</li><li>71</li><li>71</li><li>71</li><li>71</li><li>70</li><li>70</li><li>70</li><li>70</li><li>70</li><li>70</li><li>69</li><li>69</li><li>69</li><li>69</li><li>69</li><li>69</li><li>69</li><li>69</li><li>69</li><li>69</li><li>69</li><li>68</li><li>68</li><li>68</li><li>67</li><li>67</li><li>67</li><li>67</li><li>67</li><li>67</li><li>67</li><li>66</li><li>66</li><li>66</li><li>66</li><li>66</li><li>66</li><li>66</li><li>66</li><li>66</li><li>66</li><li>66</li><li>65</li><li>65</li><li>65</li><li>65</li><li>65</li><li>65</li><li>65</li><li>65</li><li>65</li><li>64</li><li>64</li><li>64</li><li>64</li><li>64</li><li>64</li><li>63</li><li>63</li><li>63</li><li>63</li><li>62</li><li>62</li><li>61</li><li>61</li><li>61</li><li>61</li><li>60</li><li>60</li><li>60</li><li>59</li><li>59</li><li>59</li><li>59</li><li>59</li><li>58</li><li>58</li><li>58</li><li>58</li><li>58</li><li>57</li><li>57</li><li>57</li><li>56</li><li>56</li><li>56</li><li>56</li><li>56</li><li>55</li><li>54</li><li>54</li><li>53</li><li>53</li><li>53</li><li>53</li><li>53</li><li>52</li><li>51</li><li>51</li><li>50</li><li>49</li><li>48</li><li>47</li><li>46</li><li>46</li><li>45</li><li>44</li><li>44</li><li>43</li><li>43</li><li>42</li><li>42</li><li>40</li><li>40</li><li>30</li><li>28</li><li>0</li><li>0</li></ol>\n"
            ],
            "text/markdown": "1. 95\n2. 95\n3. 94\n4. 93\n5. 90\n6. 90\n7. 90\n8. 90\n9. 90\n10. 89\n11. 89\n12. 89\n13. 89\n14. 89\n15. 88\n16. 88\n17. 87\n18. 87\n19. 87\n20. 87\n21. 87\n22. 86\n23. 86\n24. 86\n25. 86\n26. 86\n27. 86\n28. 86\n29. 86\n30. 86\n31. 85\n32. 84\n33. 84\n34. 84\n35. 83\n36. 83\n37. 83\n38. 83\n39. 83\n40. 83\n41. 82\n42. 82\n43. 82\n44. 82\n45. 82\n46. 82\n47. 82\n48. 82\n49. 82\n50. 82\n51. 81\n52. 81\n53. 81\n54. 81\n55. 80\n56. 80\n57. 80\n58. 80\n59. 80\n60. 80\n61. 80\n62. 80\n63. 80\n64. 80\n65. 79\n66. 79\n67. 79\n68. 79\n69. 78\n70. 78\n71. 78\n72. 78\n73. 78\n74. 77\n75. 77\n76. 77\n77. 77\n78. 77\n79. 77\n80. 77\n81. 76\n82. 76\n83. 76\n84. 76\n85. 76\n86. 76\n87. 76\n88. 75\n89. 75\n90. 75\n91. 75\n92. 75\n93. 75\n94. 75\n95. 75\n96. 75\n97. 75\n98. 75\n99. 74\n100. 74\n101. 74\n102. 74\n103. 74\n104. 74\n105. 73\n106. 73\n107. 73\n108. 73\n109. 73\n110. 73\n111. 73\n112. 73\n113. 73\n114. 73\n115. 73\n116. 73\n117. 73\n118. 72\n119. 72\n120. 72\n121. 72\n122. 72\n123. 72\n124. 72\n125. 72\n126. 71\n127. 71\n128. 71\n129. 71\n130. 71\n131. 71\n132. 71\n133. 70\n134. 70\n135. 70\n136. 70\n137. 70\n138. 70\n139. 69\n140. 69\n141. 69\n142. 69\n143. 69\n144. 69\n145. 69\n146. 69\n147. 69\n148. 69\n149. 69\n150. 68\n151. 68\n152. 68\n153. 67\n154. 67\n155. 67\n156. 67\n157. 67\n158. 67\n159. 67\n160. 66\n161. 66\n162. 66\n163. 66\n164. 66\n165. 66\n166. 66\n167. 66\n168. 66\n169. 66\n170. 66\n171. 65\n172. 65\n173. 65\n174. 65\n175. 65\n176. 65\n177. 65\n178. 65\n179. 65\n180. 64\n181. 64\n182. 64\n183. 64\n184. 64\n185. 64\n186. 63\n187. 63\n188. 63\n189. 63\n190. 62\n191. 62\n192. 61\n193. 61\n194. 61\n195. 61\n196. 60\n197. 60\n198. 60\n199. 59\n200. 59\n201. 59\n202. 59\n203. 59\n204. 58\n205. 58\n206. 58\n207. 58\n208. 58\n209. 57\n210. 57\n211. 57\n212. 56\n213. 56\n214. 56\n215. 56\n216. 56\n217. 55\n218. 54\n219. 54\n220. 53\n221. 53\n222. 53\n223. 53\n224. 53\n225. 52\n226. 51\n227. 51\n228. 50\n229. 49\n230. 48\n231. 47\n232. 46\n233. 46\n234. 45\n235. 44\n236. 44\n237. 43\n238. 43\n239. 42\n240. 42\n241. 40\n242. 40\n243. 30\n244. 28\n245. 0\n246. 0\n\n\n",
            "text/latex": "\\begin{enumerate*}\n\\item 95\n\\item 95\n\\item 94\n\\item 93\n\\item 90\n\\item 90\n\\item 90\n\\item 90\n\\item 90\n\\item 89\n\\item 89\n\\item 89\n\\item 89\n\\item 89\n\\item 88\n\\item 88\n\\item 87\n\\item 87\n\\item 87\n\\item 87\n\\item 87\n\\item 86\n\\item 86\n\\item 86\n\\item 86\n\\item 86\n\\item 86\n\\item 86\n\\item 86\n\\item 86\n\\item 85\n\\item 84\n\\item 84\n\\item 84\n\\item 83\n\\item 83\n\\item 83\n\\item 83\n\\item 83\n\\item 83\n\\item 82\n\\item 82\n\\item 82\n\\item 82\n\\item 82\n\\item 82\n\\item 82\n\\item 82\n\\item 82\n\\item 82\n\\item 81\n\\item 81\n\\item 81\n\\item 81\n\\item 80\n\\item 80\n\\item 80\n\\item 80\n\\item 80\n\\item 80\n\\item 80\n\\item 80\n\\item 80\n\\item 80\n\\item 79\n\\item 79\n\\item 79\n\\item 79\n\\item 78\n\\item 78\n\\item 78\n\\item 78\n\\item 78\n\\item 77\n\\item 77\n\\item 77\n\\item 77\n\\item 77\n\\item 77\n\\item 77\n\\item 76\n\\item 76\n\\item 76\n\\item 76\n\\item 76\n\\item 76\n\\item 76\n\\item 75\n\\item 75\n\\item 75\n\\item 75\n\\item 75\n\\item 75\n\\item 75\n\\item 75\n\\item 75\n\\item 75\n\\item 75\n\\item 74\n\\item 74\n\\item 74\n\\item 74\n\\item 74\n\\item 74\n\\item 73\n\\item 73\n\\item 73\n\\item 73\n\\item 73\n\\item 73\n\\item 73\n\\item 73\n\\item 73\n\\item 73\n\\item 73\n\\item 73\n\\item 73\n\\item 72\n\\item 72\n\\item 72\n\\item 72\n\\item 72\n\\item 72\n\\item 72\n\\item 72\n\\item 71\n\\item 71\n\\item 71\n\\item 71\n\\item 71\n\\item 71\n\\item 71\n\\item 70\n\\item 70\n\\item 70\n\\item 70\n\\item 70\n\\item 70\n\\item 69\n\\item 69\n\\item 69\n\\item 69\n\\item 69\n\\item 69\n\\item 69\n\\item 69\n\\item 69\n\\item 69\n\\item 69\n\\item 68\n\\item 68\n\\item 68\n\\item 67\n\\item 67\n\\item 67\n\\item 67\n\\item 67\n\\item 67\n\\item 67\n\\item 66\n\\item 66\n\\item 66\n\\item 66\n\\item 66\n\\item 66\n\\item 66\n\\item 66\n\\item 66\n\\item 66\n\\item 66\n\\item 65\n\\item 65\n\\item 65\n\\item 65\n\\item 65\n\\item 65\n\\item 65\n\\item 65\n\\item 65\n\\item 64\n\\item 64\n\\item 64\n\\item 64\n\\item 64\n\\item 64\n\\item 63\n\\item 63\n\\item 63\n\\item 63\n\\item 62\n\\item 62\n\\item 61\n\\item 61\n\\item 61\n\\item 61\n\\item 60\n\\item 60\n\\item 60\n\\item 59\n\\item 59\n\\item 59\n\\item 59\n\\item 59\n\\item 58\n\\item 58\n\\item 58\n\\item 58\n\\item 58\n\\item 57\n\\item 57\n\\item 57\n\\item 56\n\\item 56\n\\item 56\n\\item 56\n\\item 56\n\\item 55\n\\item 54\n\\item 54\n\\item 53\n\\item 53\n\\item 53\n\\item 53\n\\item 53\n\\item 52\n\\item 51\n\\item 51\n\\item 50\n\\item 49\n\\item 48\n\\item 47\n\\item 46\n\\item 46\n\\item 45\n\\item 44\n\\item 44\n\\item 43\n\\item 43\n\\item 42\n\\item 42\n\\item 40\n\\item 40\n\\item 30\n\\item 28\n\\item 0\n\\item 0\n\\end{enumerate*}\n",
            "text/plain": [
              "  [1] 95 95 94 93 90 90 90 90 90 89 89 89 89 89 88 88 87 87 87 87 87 86 86 86 86\n",
              " [26] 86 86 86 86 86 85 84 84 84 83 83 83 83 83 83 82 82 82 82 82 82 82 82 82 82\n",
              " [51] 81 81 81 81 80 80 80 80 80 80 80 80 80 80 79 79 79 79 78 78 78 78 78 77 77\n",
              " [76] 77 77 77 77 77 76 76 76 76 76 76 76 75 75 75 75 75 75 75 75 75 75 75 74 74\n",
              "[101] 74 74 74 74 73 73 73 73 73 73 73 73 73 73 73 73 73 72 72 72 72 72 72 72 72\n",
              "[126] 71 71 71 71 71 71 71 70 70 70 70 70 70 69 69 69 69 69 69 69 69 69 69 69 68\n",
              "[151] 68 68 67 67 67 67 67 67 67 66 66 66 66 66 66 66 66 66 66 66 65 65 65 65 65\n",
              "[176] 65 65 65 65 64 64 64 64 64 64 63 63 63 63 62 62 61 61 61 61 60 60 60 59 59\n",
              "[201] 59 59 59 58 58 58 58 58 57 57 57 56 56 56 56 56 55 54 54 53 53 53 53 53 52\n",
              "[226] 51 51 50 49 48 47 46 46 45 44 44 43 43 42 42 40 40 30 28  0  0"
            ]
          },
          "metadata": {}
        }
      ]
    },
    {
      "cell_type": "code",
      "source": [
        "help(read.table)"
      ],
      "metadata": {
        "id": "s2tauQ3kJqNl"
      },
      "execution_count": 14,
      "outputs": []
    },
    {
      "cell_type": "markdown",
      "source": [
        "### **1) How do you get the first 10 of column 5?**"
      ],
      "metadata": {
        "id": "J7OAahjcJ8h6"
      }
    },
    {
      "cell_type": "code",
      "source": [
        "# Answer\n",
        "statdata[1:10,5]"
      ],
      "metadata": {
        "id": "_k8-4l0_Jr_F",
        "colab": {
          "base_uri": "https://localhost:8080/",
          "height": 34
        },
        "outputId": "3dff853b-2e53-4cf3-9ad4-37e5161bc18a"
      },
      "execution_count": 17,
      "outputs": [
        {
          "output_type": "display_data",
          "data": {
            "text/html": [
              "<style>\n",
              ".list-inline {list-style: none; margin:0; padding: 0}\n",
              ".list-inline>li {display: inline-block}\n",
              ".list-inline>li:not(:last-child)::after {content: \"\\00b7\"; padding: 0 .5ex}\n",
              "</style>\n",
              "<ol class=list-inline><li>95</li><li>95</li><li>94</li><li>93</li><li>90</li><li>90</li><li>90</li><li>90</li><li>90</li><li>89</li></ol>\n"
            ],
            "text/markdown": "1. 95\n2. 95\n3. 94\n4. 93\n5. 90\n6. 90\n7. 90\n8. 90\n9. 90\n10. 89\n\n\n",
            "text/latex": "\\begin{enumerate*}\n\\item 95\n\\item 95\n\\item 94\n\\item 93\n\\item 90\n\\item 90\n\\item 90\n\\item 90\n\\item 90\n\\item 89\n\\end{enumerate*}\n",
            "text/plain": [
              " [1] 95 95 94 93 90 90 90 90 90 89"
            ]
          },
          "metadata": {}
        }
      ]
    },
    {
      "cell_type": "markdown",
      "source": [
        "### **2) List column names**"
      ],
      "metadata": {
        "id": "d4JrYeWNKfXX"
      }
    },
    {
      "cell_type": "code",
      "source": [
        "# Answer\n",
        "names(statdata)"
      ],
      "metadata": {
        "colab": {
          "base_uri": "https://localhost:8080/",
          "height": 34
        },
        "id": "uNhdGxwqKqjG",
        "outputId": "3a70e1a5-a362-48ad-e4b1-bab384cf2415"
      },
      "execution_count": 19,
      "outputs": [
        {
          "output_type": "display_data",
          "data": {
            "text/html": [
              "<style>\n",
              ".list-inline {list-style: none; margin:0; padding: 0}\n",
              ".list-inline>li {display: inline-block}\n",
              ".list-inline>li:not(:last-child)::after {content: \"\\00b7\"; padding: 0 .5ex}\n",
              "</style>\n",
              "<ol class=list-inline><li>'grade'</li><li>'HW'</li><li>'exam1'</li><li>'exam2'</li><li>'final'</li></ol>\n"
            ],
            "text/markdown": "1. 'grade'\n2. 'HW'\n3. 'exam1'\n4. 'exam2'\n5. 'final'\n\n\n",
            "text/latex": "\\begin{enumerate*}\n\\item 'grade'\n\\item 'HW'\n\\item 'exam1'\n\\item 'exam2'\n\\item 'final'\n\\end{enumerate*}\n",
            "text/plain": [
              "[1] \"grade\" \"HW\"    \"exam1\" \"exam2\" \"final\""
            ]
          },
          "metadata": {}
        }
      ]
    },
    {
      "cell_type": "markdown",
      "source": [
        "### **3) Find the dimensions of the dataset**"
      ],
      "metadata": {
        "id": "TID3pdqXKrpx"
      }
    },
    {
      "cell_type": "code",
      "source": [
        "# Answer\n"
      ],
      "metadata": {
        "id": "M-XS8UttLL14"
      },
      "execution_count": 20,
      "outputs": []
    },
    {
      "cell_type": "markdown",
      "source": [
        "### **4) List the first 100 \"grades\"**"
      ],
      "metadata": {
        "id": "1kKigRRSK-Wo"
      }
    },
    {
      "cell_type": "code",
      "source": [
        "# Answer\n"
      ],
      "metadata": {
        "id": "mCoQdOxqLOUC"
      },
      "execution_count": 21,
      "outputs": []
    },
    {
      "cell_type": "markdown",
      "source": [
        "### **5) Find which class are statdata, \"grade\", \"HW\", \"final\"**"
      ],
      "metadata": {
        "id": "ERqNYdLbK_kl"
      }
    },
    {
      "cell_type": "code",
      "source": [
        "# Answer\n"
      ],
      "metadata": {
        "id": "Q4ei41HqLTD5"
      },
      "execution_count": 22,
      "outputs": []
    },
    {
      "cell_type": "markdown",
      "source": [
        "### **6) Explain the difference between  names(statdata)[5] and names(statdata[,5])**"
      ],
      "metadata": {
        "id": "_iTmITSKLA99"
      }
    },
    {
      "cell_type": "markdown",
      "source": [
        "*BOXPLOT shows sample min, 1st quartile, median, upper quartile, sample maximum, and some outliers.*\n",
        "\n",
        "*Check help(\"boxplot\") and Verzani p.78*\n",
        "\n",
        "## **7) Run boxplot on statdata[,\"final\"]**"
      ],
      "metadata": {
        "id": "nrQTe6yJLD0e"
      }
    },
    {
      "cell_type": "code",
      "source": [
        "# Answer\n"
      ],
      "metadata": {
        "id": "r0Jfqqz4L140"
      },
      "execution_count": 23,
      "outputs": []
    },
    {
      "cell_type": "markdown",
      "source": [
        "*Why are values less than 40 shown as outliers?*\n",
        "\n",
        "The length of the whiskers is no longer than 1.5 times the length of the box (Inter Quartile Range IRQ). \n",
        "\n",
        "## **8) Run the summary command to find the min, 1st quartile, median, mean, 3rd quartile and max.**"
      ],
      "metadata": {
        "id": "OHsWE_qALc0a"
      }
    },
    {
      "cell_type": "code",
      "source": [
        "# Answer\n"
      ],
      "metadata": {
        "id": "t4OZzun3Mk3j"
      },
      "execution_count": 24,
      "outputs": []
    },
    {
      "cell_type": "markdown",
      "source": [
        "*Therefore box length is 80-64 = 16. Thus IQR=16*\n",
        "\n",
        "*whisker length* = 16 * 1.5 = 24\n",
        "\n",
        "*64 - 24 = 40  so that is where the bottom whisker ends and values less than 40 are shown as outliers.*"
      ],
      "metadata": {
        "id": "81NPtnSzMT0_"
      }
    },
    {
      "cell_type": "markdown",
      "source": [
        "## *Vioplot*\n",
        "The package vioplot shows the violin plot which includes the density function.\n",
        "\n",
        "https://www.google.com/search?q=violin+plot\n",
        "\n",
        "https://en.wikipedia.org/wiki/Violin_plot"
      ],
      "metadata": {
        "id": "iYpo82cGMpLT"
      }
    },
    {
      "cell_type": "code",
      "source": [
        "install.packages(\"vioplot\")"
      ],
      "metadata": {
        "colab": {
          "base_uri": "https://localhost:8080/"
        },
        "id": "ItwDzRlSNJ5z",
        "outputId": "2411e4ab-6402-4b70-e493-ab74a09f10e3"
      },
      "execution_count": 25,
      "outputs": [
        {
          "output_type": "stream",
          "name": "stderr",
          "text": [
            "Installing package into ‘/usr/local/lib/R/site-library’\n",
            "(as ‘lib’ is unspecified)\n",
            "\n",
            "also installing the dependencies ‘sm’, ‘zoo’\n",
            "\n",
            "\n"
          ]
        }
      ]
    },
    {
      "cell_type": "code",
      "source": [
        "require(vioplot)\n",
        "vioplot(statdata[,5])"
      ],
      "metadata": {
        "colab": {
          "base_uri": "https://localhost:8080/",
          "height": 437
        },
        "id": "rY-_Z1C1NZsZ",
        "outputId": "f991c51b-5130-4e5e-a42b-d4fa2d2d483a"
      },
      "execution_count": 27,
      "outputs": [
        {
          "output_type": "display_data",
          "data": {
            "text/plain": [
              "Plot with title “”"
            ],
            "image/png": "[encoded data removed]"
          },
          "metadata": {
            "image/png": {
              "width": 420,
              "height": 420
            }
          }
        }
      ]
    },
    {
      "cell_type": "markdown",
      "source": [
        "## *BARPLOT*\n",
        "\n",
        "From help file (in separate window) we learn that input to barplot is a vector of bar heights.\n",
        "We know that \"grade\" is a factor. \n",
        "\n",
        "\n",
        "### **9) Use table()  to count the grade\" levels, that is how many A+, A,A-, etc.**"
      ],
      "metadata": {
        "id": "bzDNNUE3MsP3"
      }
    },
    {
      "cell_type": "code",
      "source": [
        "# Answer\n"
      ],
      "metadata": {
        "id": "KYUSsOztOWvw"
      },
      "execution_count": 28,
      "outputs": []
    },
    {
      "cell_type": "markdown",
      "source": [
        "### **10) Run barplot on the previous table**"
      ],
      "metadata": {
        "id": "YYJny9uRN4FN"
      }
    },
    {
      "cell_type": "code",
      "source": [
        "# Answer\n"
      ],
      "metadata": {
        "id": "r9rY-WGAOa30"
      },
      "execution_count": 29,
      "outputs": []
    },
    {
      "cell_type": "markdown",
      "source": [
        "### **Just out of curiosity, check what happens if you just run barplot(statdata[,\"grade\"])**"
      ],
      "metadata": {
        "id": "_NqbuPO3OTxr"
      }
    },
    {
      "cell_type": "code",
      "source": [
        "# Answer\n"
      ],
      "metadata": {
        "id": "aza7LqzIO9K6"
      },
      "execution_count": 30,
      "outputs": []
    },
    {
      "cell_type": "markdown",
      "source": [
        "Notice the bars are in the wrong order (A+ follows A- etc.). Use help to look for a way to fix this.\n",
        "\n",
        "help(barplot)\n",
        "\n",
        "No help here!  "
      ],
      "metadata": {
        "id": "Crq2xeopO0Iz"
      }
    },
    {
      "cell_type": "code",
      "source": [
        "# Instead try to fix the order of the entries in table(statdata[,\"grade\"]) directly Assign\n",
        "\n",
        "junk <- table(statdata[,\"grade\"])\n",
        "junk\n",
        "\n",
        "# Now work on the vector junk to fix the order"
      ],
      "metadata": {
        "colab": {
          "base_uri": "https://localhost:8080/",
          "height": 69
        },
        "id": "DUzgnk2jO1gj",
        "outputId": "8ad8e8dd-bfb0-4a50-996f-08c2f5b3db5e"
      },
      "execution_count": 31,
      "outputs": [
        {
          "output_type": "display_data",
          "data": {
            "text/plain": [
              "\n",
              " A A- A+  B B- B+  C C- C+  D D- D+  F \n",
              "32 15  4 66 20  4 31 16 19 25  9  1  4 "
            ]
          },
          "metadata": {}
        }
      ]
    },
    {
      "cell_type": "code",
      "source": [
        "# Answer\n"
      ],
      "metadata": {
        "id": "8MYBneD_PN-g"
      },
      "execution_count": 32,
      "outputs": []
    },
    {
      "cell_type": "markdown",
      "source": [
        "### **11) Get a new vector (eg junk2) with the correct order**"
      ],
      "metadata": {
        "id": "RE5vQiQSOkY5"
      }
    },
    {
      "cell_type": "code",
      "source": [
        "# Answer\n"
      ],
      "metadata": {
        "id": "Rpz7Af-ZPf_F"
      },
      "execution_count": 33,
      "outputs": []
    },
    {
      "cell_type": "markdown",
      "source": [
        "### **12) Now run barplot on the ordered vector**"
      ],
      "metadata": {
        "id": "rDpbtnFHPQmh"
      }
    },
    {
      "cell_type": "code",
      "source": [
        "# Answer\n"
      ],
      "metadata": {
        "id": "O7dYLEsyPg5V"
      },
      "execution_count": 34,
      "outputs": []
    },
    {
      "cell_type": "markdown",
      "source": [
        "## **13) Can change the vertical axis to proportions instead of actual values?**\n",
        "\n",
        "If you read the help, there is a \"density\" parameter in barplot, would that work? \n",
        "Otherwise do it directly by dividing by a normalization constant.\n",
        "\n",
        "Histogram \n",
        "\n",
        "help(hist)"
      ],
      "metadata": {
        "id": "agya7SbLPSod"
      }
    },
    {
      "cell_type": "code",
      "source": [
        "# Answer\n"
      ],
      "metadata": {
        "id": "EI_75uYdQCQ9"
      },
      "execution_count": 35,
      "outputs": []
    },
    {
      "cell_type": "markdown",
      "source": [
        "### **14) Run the histogram function on the \"final\" set**"
      ],
      "metadata": {
        "id": "mr7hpRMEPZCO"
      }
    },
    {
      "cell_type": "code",
      "source": [
        "# Answer\n"
      ],
      "metadata": {
        "id": "QyLuPXP1Qeni"
      },
      "execution_count": 36,
      "outputs": []
    },
    {
      "cell_type": "markdown",
      "source": [
        "Skewed left.  See Verzani p.67 and item [61] stat-techniques.pdf for a definition of skeweness.\n",
        "\n",
        "It would be interesting to see the separate boxplots of final for each grade level. We look at the help file for a hint. \n",
        "\n",
        "help(boxplot)\n",
        "\n",
        "The first argument is a formula:\n",
        "\n",
        "a formula, such as y ~ grp, where y is a numeric vector of data values to be split into groups according to the grouping variable grp (usually a factor). \n",
        "\n",
        "-statdat[,\"final\"] is a vector of data values\n",
        "\n",
        "-statdat[,\"grade\"] is a factor"
      ],
      "metadata": {
        "id": "1rf7hPgXQFT2"
      }
    },
    {
      "cell_type": "markdown",
      "source": [
        "### **15) Get the boxplot \"final\" by \"grade\"**"
      ],
      "metadata": {
        "id": "_1TEFHJIPcwV"
      }
    },
    {
      "cell_type": "code",
      "source": [
        "# Answer\n"
      ],
      "metadata": {
        "id": "rgx5CvoIQlxU"
      },
      "execution_count": 37,
      "outputs": []
    },
    {
      "cell_type": "markdown",
      "source": [
        "This plot is pretty good except that the grade levels are in the wrong order. To fix this requires some \"advanced\" R programming.\n",
        "\n",
        "The split command splits a data vector (first argument) into groups based on the second argumentwhich is a factor. \n",
        "Here \"grade\" is a factor - it has levels."
      ],
      "metadata": {
        "id": "ybUvkuNSQiXx"
      }
    },
    {
      "cell_type": "code",
      "source": [
        "final_exam_by_grade <- split(statdata[,\"final\"], statdata[,\"grade\"])\n",
        "final_exam_by_grade"
      ],
      "metadata": {
        "colab": {
          "base_uri": "https://localhost:8080/",
          "height": 514
        },
        "id": "Thu1xhkXQ0Kq",
        "outputId": "547122f2-3065-4031-c060-068651cf9847"
      },
      "execution_count": 38,
      "outputs": [
        {
          "output_type": "display_data",
          "data": {
            "text/html": [
              "<dl>\n",
              "\t<dt>$A</dt>\n",
              "\t\t<dd><style>\n",
              ".list-inline {list-style: none; margin:0; padding: 0}\n",
              ".list-inline>li {display: inline-block}\n",
              ".list-inline>li:not(:last-child)::after {content: \"\\00b7\"; padding: 0 .5ex}\n",
              "</style>\n",
              "<ol class=list-inline><li>94</li><li>93</li><li>90</li><li>90</li><li>90</li><li>90</li><li>89</li><li>89</li><li>89</li><li>89</li><li>88</li><li>88</li><li>87</li><li>87</li><li>87</li><li>86</li><li>86</li><li>86</li><li>86</li><li>86</li><li>86</li><li>85</li><li>84</li><li>84</li><li>84</li><li>83</li><li>83</li><li>82</li><li>82</li><li>82</li><li>82</li><li>80</li></ol>\n",
              "</dd>\n",
              "\t<dt>$`A-`</dt>\n",
              "\t\t<dd><style>\n",
              ".list-inline {list-style: none; margin:0; padding: 0}\n",
              ".list-inline>li {display: inline-block}\n",
              ".list-inline>li:not(:last-child)::after {content: \"\\00b7\"; padding: 0 .5ex}\n",
              "</style>\n",
              "<ol class=list-inline><li>87</li><li>86</li><li>83</li><li>83</li><li>82</li><li>82</li><li>81</li><li>81</li><li>80</li><li>78</li><li>78</li><li>75</li><li>75</li><li>74</li><li>73</li></ol>\n",
              "</dd>\n",
              "\t<dt>$`A+`</dt>\n",
              "\t\t<dd><style>\n",
              ".list-inline {list-style: none; margin:0; padding: 0}\n",
              ".list-inline>li {display: inline-block}\n",
              ".list-inline>li:not(:last-child)::after {content: \"\\00b7\"; padding: 0 .5ex}\n",
              "</style>\n",
              "<ol class=list-inline><li>95</li><li>95</li><li>90</li><li>89</li></ol>\n",
              "</dd>\n",
              "\t<dt>$B</dt>\n",
              "\t\t<dd><style>\n",
              ".list-inline {list-style: none; margin:0; padding: 0}\n",
              ".list-inline>li {display: inline-block}\n",
              ".list-inline>li:not(:last-child)::after {content: \"\\00b7\"; padding: 0 .5ex}\n",
              "</style>\n",
              "<ol class=list-inline><li>83</li><li>83</li><li>82</li><li>82</li><li>82</li><li>81</li><li>81</li><li>80</li><li>80</li><li>80</li><li>80</li><li>80</li><li>80</li><li>80</li><li>80</li><li>79</li><li>79</li><li>79</li><li>79</li><li>78</li><li>78</li><li>77</li><li>77</li><li>77</li><li>77</li><li>77</li><li>77</li><li>76</li><li>76</li><li>76</li><li>76</li><li>76</li><li>75</li><li>75</li><li>75</li><li>75</li><li>75</li><li>75</li><li>74</li><li>74</li><li>74</li><li>73</li><li>73</li><li>73</li><li>73</li><li>73</li><li>73</li><li>72</li><li>72</li><li>72</li><li>72</li><li>72</li><li>71</li><li>71</li><li>71</li><li>71</li><li>70</li><li>70</li><li>70</li><li>69</li><li>69</li><li>69</li><li>69</li><li>69</li><li>68</li><li>66</li></ol>\n",
              "</dd>\n",
              "\t<dt>$`B-`</dt>\n",
              "\t\t<dd><style>\n",
              ".list-inline {list-style: none; margin:0; padding: 0}\n",
              ".list-inline>li {display: inline-block}\n",
              ".list-inline>li:not(:last-child)::after {content: \"\\00b7\"; padding: 0 .5ex}\n",
              "</style>\n",
              "<ol class=list-inline><li>77</li><li>76</li><li>75</li><li>75</li><li>74</li><li>74</li><li>73</li><li>73</li><li>73</li><li>73</li><li>72</li><li>71</li><li>71</li><li>70</li><li>70</li><li>66</li><li>64</li><li>63</li><li>59</li><li>58</li></ol>\n",
              "</dd>\n",
              "\t<dt>$`B+`</dt>\n",
              "\t\t<dd><style>\n",
              ".list-inline {list-style: none; margin:0; padding: 0}\n",
              ".list-inline>li {display: inline-block}\n",
              ".list-inline>li:not(:last-child)::after {content: \"\\00b7\"; padding: 0 .5ex}\n",
              "</style>\n",
              "<ol class=list-inline><li>87</li><li>86</li><li>86</li><li>82</li></ol>\n",
              "</dd>\n",
              "\t<dt>$C</dt>\n",
              "\t\t<dd><style>\n",
              ".list-inline {list-style: none; margin:0; padding: 0}\n",
              ".list-inline>li {display: inline-block}\n",
              ".list-inline>li:not(:last-child)::after {content: \"\\00b7\"; padding: 0 .5ex}\n",
              "</style>\n",
              "<ol class=list-inline><li>78</li><li>76</li><li>75</li><li>73</li><li>73</li><li>72</li><li>70</li><li>69</li><li>69</li><li>68</li><li>67</li><li>67</li><li>67</li><li>66</li><li>66</li><li>66</li><li>66</li><li>65</li><li>65</li><li>65</li><li>65</li><li>64</li><li>64</li><li>63</li><li>63</li><li>62</li><li>61</li><li>61</li><li>61</li><li>60</li><li>59</li></ol>\n",
              "</dd>\n",
              "\t<dt>$`C-`</dt>\n",
              "\t\t<dd><style>\n",
              ".list-inline {list-style: none; margin:0; padding: 0}\n",
              ".list-inline>li {display: inline-block}\n",
              ".list-inline>li:not(:last-child)::after {content: \"\\00b7\"; padding: 0 .5ex}\n",
              "</style>\n",
              "<ol class=list-inline><li>68</li><li>66</li><li>65</li><li>63</li><li>62</li><li>59</li><li>59</li><li>59</li><li>58</li><li>58</li><li>57</li><li>57</li><li>56</li><li>55</li><li>54</li><li>51</li></ol>\n",
              "</dd>\n",
              "\t<dt>$`C+`</dt>\n",
              "\t\t<dd><style>\n",
              ".list-inline {list-style: none; margin:0; padding: 0}\n",
              ".list-inline>li {display: inline-block}\n",
              ".list-inline>li:not(:last-child)::after {content: \"\\00b7\"; padding: 0 .5ex}\n",
              "</style>\n",
              "<ol class=list-inline><li>72</li><li>71</li><li>69</li><li>69</li><li>69</li><li>69</li><li>67</li><li>67</li><li>67</li><li>67</li><li>66</li><li>66</li><li>66</li><li>65</li><li>65</li><li>65</li><li>64</li><li>64</li><li>64</li></ol>\n",
              "</dd>\n",
              "\t<dt>$D</dt>\n",
              "\t\t<dd><style>\n",
              ".list-inline {list-style: none; margin:0; padding: 0}\n",
              ".list-inline>li {display: inline-block}\n",
              ".list-inline>li:not(:last-child)::after {content: \"\\00b7\"; padding: 0 .5ex}\n",
              "</style>\n",
              "<ol class=list-inline><li>66</li><li>65</li><li>60</li><li>60</li><li>58</li><li>58</li><li>57</li><li>56</li><li>56</li><li>56</li><li>56</li><li>54</li><li>53</li><li>53</li><li>53</li><li>53</li><li>53</li><li>52</li><li>51</li><li>50</li><li>49</li><li>48</li><li>47</li><li>46</li><li>46</li></ol>\n",
              "</dd>\n",
              "\t<dt>$`D-`</dt>\n",
              "\t\t<dd><style>\n",
              ".list-inline {list-style: none; margin:0; padding: 0}\n",
              ".list-inline>li {display: inline-block}\n",
              ".list-inline>li:not(:last-child)::after {content: \"\\00b7\"; padding: 0 .5ex}\n",
              "</style>\n",
              "<ol class=list-inline><li>45</li><li>44</li><li>44</li><li>43</li><li>43</li><li>42</li><li>42</li><li>40</li><li>40</li></ol>\n",
              "</dd>\n",
              "\t<dt>$`D+`</dt>\n",
              "\t\t<dd>61</dd>\n",
              "\t<dt>$F</dt>\n",
              "\t\t<dd><style>\n",
              ".list-inline {list-style: none; margin:0; padding: 0}\n",
              ".list-inline>li {display: inline-block}\n",
              ".list-inline>li:not(:last-child)::after {content: \"\\00b7\"; padding: 0 .5ex}\n",
              "</style>\n",
              "<ol class=list-inline><li>30</li><li>28</li><li>0</li><li>0</li></ol>\n",
              "</dd>\n",
              "</dl>\n"
            ],
            "text/markdown": "$A\n:   1. 94\n2. 93\n3. 90\n4. 90\n5. 90\n6. 90\n7. 89\n8. 89\n9. 89\n10. 89\n11. 88\n12. 88\n13. 87\n14. 87\n15. 87\n16. 86\n17. 86\n18. 86\n19. 86\n20. 86\n21. 86\n22. 85\n23. 84\n24. 84\n25. 84\n26. 83\n27. 83\n28. 82\n29. 82\n30. 82\n31. 82\n32. 80\n\n\n\n$`A-`\n:   1. 87\n2. 86\n3. 83\n4. 83\n5. 82\n6. 82\n7. 81\n8. 81\n9. 80\n10. 78\n11. 78\n12. 75\n13. 75\n14. 74\n15. 73\n\n\n\n$`A+`\n:   1. 95\n2. 95\n3. 90\n4. 89\n\n\n\n$B\n:   1. 83\n2. 83\n3. 82\n4. 82\n5. 82\n6. 81\n7. 81\n8. 80\n9. 80\n10. 80\n11. 80\n12. 80\n13. 80\n14. 80\n15. 80\n16. 79\n17. 79\n18. 79\n19. 79\n20. 78\n21. 78\n22. 77\n23. 77\n24. 77\n25. 77\n26. 77\n27. 77\n28. 76\n29. 76\n30. 76\n31. 76\n32. 76\n33. 75\n34. 75\n35. 75\n36. 75\n37. 75\n38. 75\n39. 74\n40. 74\n41. 74\n42. 73\n43. 73\n44. 73\n45. 73\n46. 73\n47. 73\n48. 72\n49. 72\n50. 72\n51. 72\n52. 72\n53. 71\n54. 71\n55. 71\n56. 71\n57. 70\n58. 70\n59. 70\n60. 69\n61. 69\n62. 69\n63. 69\n64. 69\n65. 68\n66. 66\n\n\n\n$`B-`\n:   1. 77\n2. 76\n3. 75\n4. 75\n5. 74\n6. 74\n7. 73\n8. 73\n9. 73\n10. 73\n11. 72\n12. 71\n13. 71\n14. 70\n15. 70\n16. 66\n17. 64\n18. 63\n19. 59\n20. 58\n\n\n\n$`B+`\n:   1. 87\n2. 86\n3. 86\n4. 82\n\n\n\n$C\n:   1. 78\n2. 76\n3. 75\n4. 73\n5. 73\n6. 72\n7. 70\n8. 69\n9. 69\n10. 68\n11. 67\n12. 67\n13. 67\n14. 66\n15. 66\n16. 66\n17. 66\n18. 65\n19. 65\n20. 65\n21. 65\n22. 64\n23. 64\n24. 63\n25. 63\n26. 62\n27. 61\n28. 61\n29. 61\n30. 60\n31. 59\n\n\n\n$`C-`\n:   1. 68\n2. 66\n3. 65\n4. 63\n5. 62\n6. 59\n7. 59\n8. 59\n9. 58\n10. 58\n11. 57\n12. 57\n13. 56\n14. 55\n15. 54\n16. 51\n\n\n\n$`C+`\n:   1. 72\n2. 71\n3. 69\n4. 69\n5. 69\n6. 69\n7. 67\n8. 67\n9. 67\n10. 67\n11. 66\n12. 66\n13. 66\n14. 65\n15. 65\n16. 65\n17. 64\n18. 64\n19. 64\n\n\n\n$D\n:   1. 66\n2. 65\n3. 60\n4. 60\n5. 58\n6. 58\n7. 57\n8. 56\n9. 56\n10. 56\n11. 56\n12. 54\n13. 53\n14. 53\n15. 53\n16. 53\n17. 53\n18. 52\n19. 51\n20. 50\n21. 49\n22. 48\n23. 47\n24. 46\n25. 46\n\n\n\n$`D-`\n:   1. 45\n2. 44\n3. 44\n4. 43\n5. 43\n6. 42\n7. 42\n8. 40\n9. 40\n\n\n\n$`D+`\n:   61\n$F\n:   1. 30\n2. 28\n3. 0\n4. 0\n\n\n\n\n\n",
            "text/latex": "\\begin{description}\n\\item[\\$A] \\begin{enumerate*}\n\\item 94\n\\item 93\n\\item 90\n\\item 90\n\\item 90\n\\item 90\n\\item 89\n\\item 89\n\\item 89\n\\item 89\n\\item 88\n\\item 88\n\\item 87\n\\item 87\n\\item 87\n\\item 86\n\\item 86\n\\item 86\n\\item 86\n\\item 86\n\\item 86\n\\item 85\n\\item 84\n\\item 84\n\\item 84\n\\item 83\n\\item 83\n\\item 82\n\\item 82\n\\item 82\n\\item 82\n\\item 80\n\\end{enumerate*}\n\n\\item[\\$`A-`] \\begin{enumerate*}\n\\item 87\n\\item 86\n\\item 83\n\\item 83\n\\item 82\n\\item 82\n\\item 81\n\\item 81\n\\item 80\n\\item 78\n\\item 78\n\\item 75\n\\item 75\n\\item 74\n\\item 73\n\\end{enumerate*}\n\n\\item[\\$`A+`] \\begin{enumerate*}\n\\item 95\n\\item 95\n\\item 90\n\\item 89\n\\end{enumerate*}\n\n\\item[\\$B] \\begin{enumerate*}\n\\item 83\n\\item 83\n\\item 82\n\\item 82\n\\item 82\n\\item 81\n\\item 81\n\\item 80\n\\item 80\n\\item 80\n\\item 80\n\\item 80\n\\item 80\n\\item 80\n\\item 80\n\\item 79\n\\item 79\n\\item 79\n\\item 79\n\\item 78\n\\item 78\n\\item 77\n\\item 77\n\\item 77\n\\item 77\n\\item 77\n\\item 77\n\\item 76\n\\item 76\n\\item 76\n\\item 76\n\\item 76\n\\item 75\n\\item 75\n\\item 75\n\\item 75\n\\item 75\n\\item 75\n\\item 74\n\\item 74\n\\item 74\n\\item 73\n\\item 73\n\\item 73\n\\item 73\n\\item 73\n\\item 73\n\\item 72\n\\item 72\n\\item 72\n\\item 72\n\\item 72\n\\item 71\n\\item 71\n\\item 71\n\\item 71\n\\item 70\n\\item 70\n\\item 70\n\\item 69\n\\item 69\n\\item 69\n\\item 69\n\\item 69\n\\item 68\n\\item 66\n\\end{enumerate*}\n\n\\item[\\$`B-`] \\begin{enumerate*}\n\\item 77\n\\item 76\n\\item 75\n\\item 75\n\\item 74\n\\item 74\n\\item 73\n\\item 73\n\\item 73\n\\item 73\n\\item 72\n\\item 71\n\\item 71\n\\item 70\n\\item 70\n\\item 66\n\\item 64\n\\item 63\n\\item 59\n\\item 58\n\\end{enumerate*}\n\n\\item[\\$`B+`] \\begin{enumerate*}\n\\item 87\n\\item 86\n\\item 86\n\\item 82\n\\end{enumerate*}\n\n\\item[\\$C] \\begin{enumerate*}\n\\item 78\n\\item 76\n\\item 75\n\\item 73\n\\item 73\n\\item 72\n\\item 70\n\\item 69\n\\item 69\n\\item 68\n\\item 67\n\\item 67\n\\item 67\n\\item 66\n\\item 66\n\\item 66\n\\item 66\n\\item 65\n\\item 65\n\\item 65\n\\item 65\n\\item 64\n\\item 64\n\\item 63\n\\item 63\n\\item 62\n\\item 61\n\\item 61\n\\item 61\n\\item 60\n\\item 59\n\\end{enumerate*}\n\n\\item[\\$`C-`] \\begin{enumerate*}\n\\item 68\n\\item 66\n\\item 65\n\\item 63\n\\item 62\n\\item 59\n\\item 59\n\\item 59\n\\item 58\n\\item 58\n\\item 57\n\\item 57\n\\item 56\n\\item 55\n\\item 54\n\\item 51\n\\end{enumerate*}\n\n\\item[\\$`C+`] \\begin{enumerate*}\n\\item 72\n\\item 71\n\\item 69\n\\item 69\n\\item 69\n\\item 69\n\\item 67\n\\item 67\n\\item 67\n\\item 67\n\\item 66\n\\item 66\n\\item 66\n\\item 65\n\\item 65\n\\item 65\n\\item 64\n\\item 64\n\\item 64\n\\end{enumerate*}\n\n\\item[\\$D] \\begin{enumerate*}\n\\item 66\n\\item 65\n\\item 60\n\\item 60\n\\item 58\n\\item 58\n\\item 57\n\\item 56\n\\item 56\n\\item 56\n\\item 56\n\\item 54\n\\item 53\n\\item 53\n\\item 53\n\\item 53\n\\item 53\n\\item 52\n\\item 51\n\\item 50\n\\item 49\n\\item 48\n\\item 47\n\\item 46\n\\item 46\n\\end{enumerate*}\n\n\\item[\\$`D-`] \\begin{enumerate*}\n\\item 45\n\\item 44\n\\item 44\n\\item 43\n\\item 43\n\\item 42\n\\item 42\n\\item 40\n\\item 40\n\\end{enumerate*}\n\n\\item[\\$`D+`] 61\n\\item[\\$F] \\begin{enumerate*}\n\\item 30\n\\item 28\n\\item 0\n\\item 0\n\\end{enumerate*}\n\n\\end{description}\n",
            "text/plain": [
              "$A\n",
              " [1] 94 93 90 90 90 90 89 89 89 89 88 88 87 87 87 86 86 86 86 86 86 85 84 84 84\n",
              "[26] 83 83 82 82 82 82 80\n",
              "\n",
              "$`A-`\n",
              " [1] 87 86 83 83 82 82 81 81 80 78 78 75 75 74 73\n",
              "\n",
              "$`A+`\n",
              "[1] 95 95 90 89\n",
              "\n",
              "$B\n",
              " [1] 83 83 82 82 82 81 81 80 80 80 80 80 80 80 80 79 79 79 79 78 78 77 77 77 77\n",
              "[26] 77 77 76 76 76 76 76 75 75 75 75 75 75 74 74 74 73 73 73 73 73 73 72 72 72\n",
              "[51] 72 72 71 71 71 71 70 70 70 69 69 69 69 69 68 66\n",
              "\n",
              "$`B-`\n",
              " [1] 77 76 75 75 74 74 73 73 73 73 72 71 71 70 70 66 64 63 59 58\n",
              "\n",
              "$`B+`\n",
              "[1] 87 86 86 82\n",
              "\n",
              "$C\n",
              " [1] 78 76 75 73 73 72 70 69 69 68 67 67 67 66 66 66 66 65 65 65 65 64 64 63 63\n",
              "[26] 62 61 61 61 60 59\n",
              "\n",
              "$`C-`\n",
              " [1] 68 66 65 63 62 59 59 59 58 58 57 57 56 55 54 51\n",
              "\n",
              "$`C+`\n",
              " [1] 72 71 69 69 69 69 67 67 67 67 66 66 66 65 65 65 64 64 64\n",
              "\n",
              "$D\n",
              " [1] 66 65 60 60 58 58 57 56 56 56 56 54 53 53 53 53 53 52 51 50 49 48 47 46 46\n",
              "\n",
              "$`D-`\n",
              "[1] 45 44 44 43 43 42 42 40 40\n",
              "\n",
              "$`D+`\n",
              "[1] 61\n",
              "\n",
              "$F\n",
              "[1] 30 28  0  0\n"
            ]
          },
          "metadata": {}
        }
      ]
    },
    {
      "cell_type": "markdown",
      "source": [
        "Answer shows that that final_exam_by_grade consists of separate vectors, one for each grade."
      ],
      "metadata": {
        "id": "58xNod-DQ76W"
      }
    },
    {
      "cell_type": "code",
      "source": [
        "class(final_exam_by_grade)"
      ],
      "metadata": {
        "colab": {
          "base_uri": "https://localhost:8080/",
          "height": 34
        },
        "id": "XM9Wk3u9RAuv",
        "outputId": "5650bf23-a78b-4db0-f2a1-d06a444e8fca"
      },
      "execution_count": 39,
      "outputs": [
        {
          "output_type": "display_data",
          "data": {
            "text/html": [
              "'list'"
            ],
            "text/markdown": "'list'",
            "text/latex": "'list'",
            "text/plain": [
              "[1] \"list\""
            ]
          },
          "metadata": {}
        }
      ]
    },
    {
      "cell_type": "markdown",
      "source": [
        "final_exam_by_grade is a \"list\".  A list is a special type of vector.  \n",
        "\n",
        "In a regular data vector, each component of the vector is a number, character or logical value.\n",
        "In a list, each component of the list can be anything.  \n",
        "In this case, the component final_exam_by_grade$'A+' gives the final exam scores of the students who had a course grade of A+.  \n",
        "\n",
        "These scores are 95, 95, 90, and 89."
      ],
      "metadata": {
        "id": "xTvZO76xRDmH"
      }
    },
    {
      "cell_type": "markdown",
      "source": [
        "### **16) Find the length of final_exam_by_grade**"
      ],
      "metadata": {
        "id": "wY2O5pL5RPzg"
      }
    },
    {
      "cell_type": "code",
      "source": [
        "# Answer\n"
      ],
      "metadata": {
        "id": "ZCRzD-pURdAl"
      },
      "execution_count": 40,
      "outputs": []
    },
    {
      "cell_type": "markdown",
      "source": [
        "### **17) Let us reorder the components of final_exam_by_grade**"
      ],
      "metadata": {
        "id": "5I2DPstPRWDZ"
      }
    },
    {
      "cell_type": "code",
      "source": [
        "# Answer\n"
      ],
      "metadata": {
        "id": "OHjwexZdRikH"
      },
      "execution_count": 41,
      "outputs": []
    },
    {
      "cell_type": "markdown",
      "source": [
        "## **18) Components of final_exam_by_grade are in the correct order, now get the following boxplot.**"
      ],
      "metadata": {
        "id": "x51nXT2qRW6Z"
      }
    },
    {
      "cell_type": "code",
      "source": [
        "# Answer\n"
      ],
      "metadata": {
        "id": "tNpXWC2hRn63"
      },
      "execution_count": 42,
      "outputs": []
    },
    {
      "cell_type": "code",
      "source": [
        "From this plot we cannot tell that very few students got a D+.\n",
        "The varwidth argument to boxplot makes the width of each boxplot proportional to the square root of the number of students with the \n",
        "corresponding grade. Note \"length\" is the IQR, and so width is the other dimension."
      ],
      "metadata": {
        "id": "eIJ8WXK6RX11"
      },
      "execution_count": null,
      "outputs": []
    },
    {
      "cell_type": "markdown",
      "source": [
        "## **19) Use the varwidth argument in boxplot**"
      ],
      "metadata": {
        "id": "q6r4qD20Rv8L"
      }
    },
    {
      "cell_type": "code",
      "source": [
        "# Answer\n"
      ],
      "metadata": {
        "id": "-CVmNludRy3S"
      },
      "execution_count": 43,
      "outputs": []
    },
    {
      "cell_type": "markdown",
      "source": [
        "The preference to limit the number of unadorned letter grades (A, B, etc instead of A-, B+ etc) \n",
        "can see this in the width of the boxplots. \n",
        "\n",
        "Interesting: note that B+ score was higher than A-\n",
        "\n",
        "So lets try exam1 boxplot split by grade, as well as exam2. What do you find?  Solve the in-class assignment."
      ],
      "metadata": {
        "id": "8g3lCuYaRYwK"
      }
    },
    {
      "cell_type": "markdown",
      "source": [
        "### **20) Let us make boxplots of the HW scores for the various grade levels.**"
      ],
      "metadata": {
        "id": "ntfYBuutR-Sc"
      }
    },
    {
      "cell_type": "code",
      "source": [
        "# Answer\n"
      ],
      "metadata": {
        "id": "czQ0wlvjSDWj"
      },
      "execution_count": 44,
      "outputs": []
    },
    {
      "cell_type": "markdown",
      "source": [
        "Comparing this plot to the previous plot, we see that the variability of the HW scores within each grade level is greater \n",
        "than the variability of the final exam scores within grade level.\n",
        "\n",
        "Also we see that the median HW score is almost the same for each of the  grade levels from C- to A.  \n",
        "One might conclude that doing well on HW does not always seem result in high course grades.\n",
        "It is instructive to note that in this course, HW was not pledged.\n",
        "\n",
        "At its core, statistics is about finding patterns in data.\n",
        "The choice of analysis tools (in this case the choice of plots) depends upon the features of the data set.\n",
        "In this lesson we see that with a little bit of imagination, and good programming skills, one can sometimes produce very \n",
        "informative plots of data.  The correct plots to use for a specific data set depends upon the story that the data set has to tell."
      ],
      "metadata": {
        "id": "xg5FKNKoRZqh"
      }
    },
    {
      "cell_type": "markdown",
      "source": [
        "## Difference between barplot and hist\n",
        "\n",
        "In barplots, columns are positioned over labels that represent categorical variables (levels of factors). The height represents the size of each level.\n",
        "\n",
        "Columns (can) have gaps.\n",
        "\n",
        "\n",
        "In hist, columns are positioned over labels that represent numerical variables (numeric or integers): intervals\n",
        "\n",
        "Columns have no gaps.\n"
      ],
      "metadata": {
        "id": "EQ8ip8eDSTm-"
      }
    },
    {
      "cell_type": "code",
      "source": [
        ""
      ],
      "metadata": {
        "id": "_ezf7ZydKTC1"
      },
      "execution_count": null,
      "outputs": []
    }
  ]
}